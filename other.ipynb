{
 "cells": [
  {
   "cell_type": "code",
   "execution_count": 16,
   "metadata": {
    "collapsed": true,
    "pycharm": {
     "name": "#%%\n"
    }
   },
   "outputs": [],
   "source": [
    "import numpy as np\n",
    "import gzip\n",
    "from sklearn.metrics import precision_score, recall_score, f1_score\n",
    "from sklearn.svm import LinearSVC\n",
    "from sklearn.ensemble import RandomForestClassifier\n",
    "from sklearn.tree import DecisionTreeClassifier\n",
    "import datetime"
   ]
  },
  {
   "cell_type": "code",
   "execution_count": 18,
   "outputs": [],
   "source": [
    "# 数据集加载函数\n",
    "def load_data(data_folder):\n",
    "  files = [\n",
    "      'train-labels-idx1-ubyte.gz', 'train-images-idx3-ubyte.gz',\n",
    "      't10k-labels-idx1-ubyte.gz', 't10k-images-idx3-ubyte.gz'\n",
    "  ]# 原始文件列表\n",
    "  paths = []\n",
    "  for fname in files: # 将文件读入内存\n",
    "    paths.append(os.path.join(data_folder,fname))\n",
    "  with gzip.open(paths[0], 'rb') as lbpath: # 读入训练集label\n",
    "    y_train = np.frombuffer(lbpath.read(), np.uint8, offset=8)\n",
    "  with gzip.open(paths[1], 'rb') as imgpath: # 读入训练集image\n",
    "    x_train = np.frombuffer(\n",
    "        imgpath.read(), np.uint8, offset=16).reshape(len(y_train), 28, 28)\n",
    "  with gzip.open(paths[2], 'rb') as lbpath: # 读入测试集label\n",
    "    y_test = np.frombuffer(lbpath.read(), np.uint8, offset=8)\n",
    "  with gzip.open(paths[3], 'rb') as imgpath: #读入测试机image\n",
    "    x_test = np.frombuffer(\n",
    "        imgpath.read(), np.uint8, offset=16).reshape(len(y_test), 28, 28)\n",
    "  return (x_train, y_train), (x_test, y_test)\n"
   ],
   "metadata": {
    "collapsed": false,
    "pycharm": {
     "name": "#%%\n"
    }
   }
  },
  {
   "cell_type": "code",
   "execution_count": 22,
   "outputs": [],
   "source": [
    "# 加载数据，完成规整\n",
    "(X_train,Y_train),(X_test,Y_test) = load_data('.\\data\\MNIST\\raw')\n",
    "X_train = X_train.reshape(60000,784)\n",
    "Y_train = Y_train.reshape(-1,1)\n",
    "X_test = X_train.reshape(60000,784)\n",
    "Y_test = Y_train.reshape(-1,1)"
   ],
   "metadata": {
    "collapsed": false,
    "pycharm": {
     "name": "#%%\n"
    }
   }
  },
  {
   "cell_type": "code",
   "execution_count": 24,
   "outputs": [
    {
     "name": "stderr",
     "output_type": "stream",
     "text": [
      "D:\\Anaconda3\\envs\\pytorch\\lib\\site-packages\\sklearn\\svm\\_base.py:1206: ConvergenceWarning: Liblinear failed to converge, increase the number of iterations.\n",
      "  warnings.warn(\n"
     ]
    },
    {
     "name": "stdout",
     "output_type": "stream",
     "text": [
      "精确率 0.8919066641797292\n",
      "召回率 0.8914166666666666\n",
      "F1度量值 0.8909880814795903\n",
      "训练完成，时间为  124\n"
     ]
    }
   ],
   "source": [
    "# Lineaer SVC\n",
    "starttime = datetime.datetime.now() #时间戳\n",
    "\n",
    "l_svc = LinearSVC()\n",
    "Y_train = Y_train.reshape(-1,1).ravel() #最后加上.ravel()，不然jupyter notebook会报错\n",
    "l_svc.fit(X_train,Y_train)\n",
    "\n",
    "y_pred = l_svc.predict(X_test)\n",
    "print(\"精确率\",precision_score(Y_test, y_pred, average='weighted'))\n",
    "print(\"召回率\",recall_score(Y_test, y_pred, average='weighted'))\n",
    "print(\"F1度量值\",f1_score(Y_test, y_pred, average='weighted'))\n",
    "\n",
    "endtime = datetime.datetime.now()\n",
    "time = (endtime - starttime).seconds\n",
    "print(\"训练完成，时间为 \",time)"
   ],
   "metadata": {
    "collapsed": false,
    "pycharm": {
     "name": "#%%\n"
    }
   }
  },
  {
   "cell_type": "code",
   "execution_count": 33,
   "outputs": [
    {
     "name": "stdout",
     "output_type": "stream",
     "text": [
      "精确率 0.9005920173366391\n",
      "召回率 0.8995166666666666\n",
      "F1度量值 0.8997757185746292\n",
      "训练完成，时间为  9\n"
     ]
    }
   ],
   "source": [
    "# 决策树\n",
    "starttime = datetime.datetime.now() #时间戳\n",
    "\n",
    "gini_model = DecisionTreeClassifier(criterion='gini',max_depth=10,splitter='best')\n",
    "gini_model.fit(X_train,Y_train)\n",
    "gini_y_pred = gini_model.predict(X_test)\n",
    "\n",
    "print(\"精确率\",precision_score(Y_test, gini_y_pred, average='weighted'))\n",
    "print(\"召回率\",recall_score(Y_test, gini_y_pred, average='weighted'))\n",
    "print(\"F1度量值\",f1_score(Y_test, gini_y_pred, average='weighted'))\n",
    "\n",
    "endtime = datetime.datetime.now()\n",
    "time = (endtime - starttime).seconds\n",
    "print(\"训练完成，时间为 \",time)"
   ],
   "metadata": {
    "collapsed": false,
    "pycharm": {
     "name": "#%%\n"
    }
   }
  },
  {
   "cell_type": "code",
   "execution_count": 30,
   "outputs": [
    {
     "name": "stdout",
     "output_type": "stream",
     "text": [
      "精确率 0.9992667060926934\n",
      "召回率 0.9992666666666666\n",
      "F1度量值 0.9992666387689756\n",
      "训练完成，时间为  3\n"
     ]
    }
   ],
   "source": [
    "# 随机森林\n",
    "starttime = datetime.datetime.now() #时间戳\n",
    "\n",
    "random_forest = RandomForestClassifier(n_estimators=10)\n",
    "random_forest.fit(X_train,Y_train)\n",
    "rf_y_pred = random_forest.predict(X_test)\n",
    "\n",
    "print(\"精确率\",precision_score(Y_test, rf_y_pred, average='weighted'))\n",
    "print(\"召回率\",recall_score(Y_test, rf_y_pred, average='weighted'))\n",
    "print(\"F1度量值\",f1_score(Y_test, rf_y_pred, average='weighted'))\n",
    "\n",
    "endtime = datetime.datetime.now()\n",
    "time = (endtime - starttime).seconds\n",
    "print(\"训练完成，时间为 \",time)"
   ],
   "metadata": {
    "collapsed": false,
    "pycharm": {
     "name": "#%%\n"
    }
   }
  }
 ],
 "metadata": {
  "kernelspec": {
   "display_name": "Python 3",
   "language": "python",
   "name": "python3"
  },
  "language_info": {
   "codemirror_mode": {
    "name": "ipython",
    "version": 2
   },
   "file_extension": ".py",
   "mimetype": "text/x-python",
   "name": "python",
   "nbconvert_exporter": "python",
   "pygments_lexer": "ipython2",
   "version": "2.7.6"
  }
 },
 "nbformat": 4,
 "nbformat_minor": 0
}